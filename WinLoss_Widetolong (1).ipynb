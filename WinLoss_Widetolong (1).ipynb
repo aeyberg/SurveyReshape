{
 "cells": [
  {
   "cell_type": "code",
   "execution_count": null,
   "metadata": {},
   "outputs": [],
   "source": [
    "import pandas as pd"
   ]
  },
  {
   "cell_type": "code",
   "execution_count": null,
   "metadata": {},
   "outputs": [],
   "source": [
    "WL=pd.read_excel(r\"C:\\Users\\EybergA\\winlossQ3_UP.xlsx\")"
   ]
  },
  {
   "cell_type": "code",
   "execution_count": null,
   "metadata": {},
   "outputs": [],
   "source": [
    "list(WL.columns)"
   ]
  },
  {
   "cell_type": "code",
   "execution_count": null,
   "metadata": {},
   "outputs": [],
   "source": [
    "#save all ID cols in place\n",
    "WL28=pd.wide_to_long(WL, stubnames=['Q1','Q2','Q3','Q4','Q5','Q6','Q7','Q8','Q9','Q10'], i=['ID',\n",
    " 'IP',\n",
    " 'Timestamp',\n",
    " 'dupe',\n",
    " 'Timetak',\n",
    " 'Seq',\n",
    " 'Ext',\n",
    " 'NameCRM',\n",
    " 'Org',\n",
    " 'PhoneCRM',\n",
    " 'EmailCRM',\n",
    " 'Rep',\n",
    " 'Mgr',\n",
    " 'Opp',\n",
    " 'SIS',\n",
    " 'Acct',\n",
    " 'City',\n",
    " 'State',\n",
    " 'Fname',\n",
    " 'Jobtitle',\n",
    " 'phoneELS',\n",
    " 'Opptype',\n",
    " 'Win_lossCRM',\n",
    " 'Date of Win_Loss',\n",
    " 'Product team',\n",
    " 'Product desc',\n",
    " 'Product Line',\n",
    " 'Value',\n",
    " 'Type',\n",
    " 'WonLostReasons',\n",
    " 'SalesStage',\n",
    " 'Summary',\n",
    " 'Cemail',\n",
    " 'Country',\n",
    " 'Cust28',\n",
    " 'Cust29',\n",
    " 'Cust30',\n",
    " 'Cust31',\n",
    " 'Cust32',\n",
    " 'Cust33',\n",
    " 'Cust34',\n",
    " 'Cust35',\n",
    " 'Cust36',\n",
    " 'Cust37',\n",
    " 'WINLOSS',\n",
    " 'Respemail',\n",
    " 'Elist',\n",
    " 'CC',\n",
    " 'region',\n",
    " 'Purchasecheck',\n",
    " 'Which product',\n",
    " 'Other Product',\n",
    " 'OrgType',\n",
    " 'OrgTypeOther',\n",
    " 'Gov',\n",
    " 'How involved',\n",
    " 'Role?',\n",
    " 'Role other','Final outcome',\n",
    " 'Product replace',\n",
    " 'Competitor won',\n",
    " 'List other',\n",
    " 'Primary reason','nps',\n",
    " 'OEReason', 'OEFeedback',\n",
    " 'emailINT',\n",
    " 'interview',\n",
    " 'click',\n",
    " 'Country.1',\n",
    " 'email'], j='vals1', sep='_', suffix=\"\\\\w+\")\\\n",
    ".reset_index()"
   ]
  },
  {
   "cell_type": "code",
   "execution_count": null,
   "metadata": {},
   "outputs": [],
   "source": [
    "WL28"
   ]
  },
  {
   "cell_type": "code",
   "execution_count": null,
   "metadata": {},
   "outputs": [],
   "source": [
    "WL28.to_csv('WinLossshapedQ3_21.csv')"
   ]
  },
  {
   "cell_type": "code",
   "execution_count": null,
   "metadata": {},
   "outputs": [],
   "source": []
  }
 ],
 "metadata": {
  "kernelspec": {
   "display_name": "Python 3 (ipykernel)",
   "language": "python",
   "name": "python3"
  },
  "language_info": {
   "codemirror_mode": {
    "name": "ipython",
    "version": 3
   },
   "file_extension": ".py",
   "mimetype": "text/x-python",
   "name": "python",
   "nbconvert_exporter": "python",
   "pygments_lexer": "ipython3",
   "version": "3.9.6"
  }
 },
 "nbformat": 4,
 "nbformat_minor": 2
}
